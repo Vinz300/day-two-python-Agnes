{
 "cells": [
  {
   "cell_type": "code",
   "execution_count": 2,
   "id": "cf1b889a",
   "metadata": {},
   "outputs": [
    {
     "name": "stdout",
     "output_type": "stream",
     "text": [
      "[0 1 2 3 4 5 6 7 8 9]\n"
     ]
    }
   ],
   "source": [
    "import numpy as np\n",
    "arr=np.arange(10)\n",
    "print(arr)"
   ]
  },
  {
   "cell_type": "code",
   "execution_count": 4,
   "id": "42430583",
   "metadata": {},
   "outputs": [
    {
     "name": "stdout",
     "output_type": "stream",
     "text": [
      "[[0 1 2 3 4]\n",
      " [5 6 7 8 9]]\n"
     ]
    }
   ],
   "source": [
    "reshaped_arr=arr.reshape(2,5)\n",
    "print(reshaped_arr)"
   ]
  },
  {
   "cell_type": "code",
   "execution_count": 12,
   "id": "149572f6",
   "metadata": {},
   "outputs": [
    {
     "name": "stdout",
     "output_type": "stream",
     "text": [
      "addition of two matrices is [[ 9 12]\n",
      " [11 14]]\n",
      "multipication of two matrices is [[ 5 12]\n",
      " [21 32]]\n"
     ]
    }
   ],
   "source": [
    "import numpy as np\n",
    "A=np.array([[1,2],[3,4]])\n",
    "B=np.array([[5,6],[7,8]])\n",
    "addition=sum(A,B)\n",
    "multiplication=A*B\n",
    "print(\"addition of two matrices is\",addition)\n",
    "print(\"multipication of two matrices is\",multiplication)"
   ]
  },
  {
   "cell_type": "code",
   "execution_count": 19,
   "id": "8c06c5e7",
   "metadata": {},
   "outputs": [
    {
     "name": "stdout",
     "output_type": "stream",
     "text": [
      "the dot product two matrices is [[297 492]\n",
      " [349 580]]\n",
      "the transpose is [[297 349]\n",
      " [492 580]]\n"
     ]
    }
   ],
   "source": [
    "dot_prdt=np.dot(addition,multiplication)\n",
    "trans=np.transpose(dot_prdt)\n",
    "print(\"the dot product two matrices is\", dot_prdt)\n",
    "print(\"the transpose is\", trans) "
   ]
  },
  {
   "cell_type": "code",
   "execution_count": 22,
   "id": "9766d186",
   "metadata": {},
   "outputs": [
    {
     "name": "stdout",
     "output_type": "stream",
     "text": [
      "[ 0 15  0 35 10]\n"
     ]
    }
   ],
   "source": [
    "my_array=np.array([5,15,7,35,10])\n",
    "my_array[my_array<10]=0\n",
    "print(my_array)"
   ]
  },
  {
   "cell_type": "code",
   "execution_count": 24,
   "id": "4c51b56a",
   "metadata": {},
   "outputs": [
    {
     "name": "stdout",
     "output_type": "stream",
     "text": [
      "[10 35  0 15  0]\n"
     ]
    }
   ],
   "source": [
    "reversed_array=np.flip(my_array)\n",
    "print(reversed_array)"
   ]
  },
  {
   "cell_type": "code",
   "execution_count": 4,
   "id": "d0f97b15",
   "metadata": {},
   "outputs": [
    {
     "name": "stdout",
     "output_type": "stream",
     "text": [
      "mean is 3.0\n",
      "median is 3.0\n",
      "standard deviattion is 1.4142135623730951\n"
     ]
    }
   ],
   "source": [
    "mean=np.mean(my_array)\n",
    "median=np.median(my_array)\n",
    "std_dev=np.std(my_array)\n",
    "print(\"mean is\",mean)\n",
    "print(\"median is\",median)\n",
    "print(\"standard deviattion is\",std_dev)"
   ]
  },
  {
   "cell_type": "code",
   "execution_count": 5,
   "id": "3cfc11c0",
   "metadata": {},
   "outputs": [
    {
     "name": "stdout",
     "output_type": "stream",
     "text": [
      "loaded array: [1 2 3 4 5]\n"
     ]
    }
   ],
   "source": [
    "import numpy as np\n",
    "my_array=np.array([1,2,3,4,5])\n",
    "np.save('array_file.npy',my_array)\n",
    "loaded_array=np.load('array_file.npy')\n",
    "print(\"loaded array:\",loaded_array)"
   ]
  },
  {
   "cell_type": "code",
   "execution_count": 7,
   "id": "e078ce8b",
   "metadata": {},
   "outputs": [
    {
     "name": "stdout",
     "output_type": "stream",
     "text": [
      "loaded array is [[1. 2. 3.]\n",
      " [4. 5. 6.]]\n"
     ]
    }
   ],
   "source": [
    "my_arr=np.array([[1,2,3],[4,5,6]])\n",
    "np.savetxt('array_data.csv',my_arr)\n",
    "loaded_arr=np.loadtxt('array_data.csv')\n",
    "print(\"loaded array is\",loaded_arr)"
   ]
  },
  {
   "cell_type": "code",
   "execution_count": 15,
   "id": "7ff724f8",
   "metadata": {},
   "outputs": [
    {
     "name": "stdout",
     "output_type": "stream",
     "text": [
      "horizontally merged array: [[1 2 5 6]\n",
      " [3 4 7 8]]\n"
     ]
    }
   ],
   "source": [
    "import numpy as np\n",
    "a=np.array([[1,2],[3,4]])\n",
    "b=np.array([[5,6],[7,8]])\n",
    "merged_array=np.hstack((a,b))\n",
    "print(\"horizontally merged array:\",merged_array)"
   ]
  }
 ],
 "metadata": {
  "kernelspec": {
   "display_name": "Python 3 (ipykernel)",
   "language": "python",
   "name": "python3"
  },
  "language_info": {
   "codemirror_mode": {
    "name": "ipython",
    "version": 3
   },
   "file_extension": ".py",
   "mimetype": "text/x-python",
   "name": "python",
   "nbconvert_exporter": "python",
   "pygments_lexer": "ipython3",
   "version": "3.11.5"
  }
 },
 "nbformat": 4,
 "nbformat_minor": 5
}
